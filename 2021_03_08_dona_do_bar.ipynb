{
  "nbformat": 4,
  "nbformat_minor": 0,
  "metadata": {
    "colab": {
      "name": "2021-03-08-dona-do-bar.ipynb",
      "provenance": [],
      "collapsed_sections": [],
      "authorship_tag": "ABX9TyPmGwPSqOhwADrOGsUEnA2c",
      "include_colab_link": true
    },
    "kernelspec": {
      "name": "python3",
      "display_name": "Python 3"
    }
  },
  "cells": [
    {
      "cell_type": "markdown",
      "metadata": {
        "id": "view-in-github",
        "colab_type": "text"
      },
      "source": [
        "<a href=\"https://colab.research.google.com/github/hudsonhorta/ia_colorize/blob/main/2021_03_08_dona_do_bar.ipynb\" target=\"_parent\"><img src=\"https://colab.research.google.com/assets/colab-badge.svg\" alt=\"Open In Colab\"/></a>"
      ]
    },
    {
      "cell_type": "markdown",
      "metadata": {
        "id": "ObpNf2S18TO-"
      },
      "source": [
        "# \"Dona do Bar (promovida) na segunda Avenida com a 33 (NY), em 1952\"\r\n",
        "\r\n",
        "> \"Foto colorizada por redes neurais de uma moça num bar de Nova York.\" \r\n",
        "\r\n",
        "Foto usada no algoritmo, retirada do site http://reddit.com, enviada por u/AxlCobainVedder.\r\n",
        "\r\n",
        "- toc: false\r\n",
        "- branch: master\r\n",
        "- badges: true\r\n",
        "- comments: true\r\n",
        "- Author: Hudson Horta\r\n",
        "- categories: [anos 50, bar, nova-iorque, segunda-avenidade, mulher]\r\n",
        "\r\n"
      ]
    },
    {
      "cell_type": "code",
      "metadata": {
        "colab": {
          "base_uri": "https://localhost:8080/"
        },
        "id": "Ld0QVrMH0vFH",
        "outputId": "6a425c79-6d28-4b72-e7f4-881a44b46286"
      },
      "source": [
        "#hide\r\n",
        "# Uso da biblioteca Deoldify_ewapper.py\r\n",
        "!wget https://raw.githubusercontent.com/awarischool/br-data-science/master/image-colorizer/deoldify_wrapper.py\r\n"
      ],
      "execution_count": 2,
      "outputs": [
        {
          "output_type": "stream",
          "text": [
            "--2021-03-08 22:32:30--  https://raw.githubusercontent.com/awarischool/br-data-science/master/image-colorizer/deoldify_wrapper.py\n",
            "Resolving raw.githubusercontent.com (raw.githubusercontent.com)... 185.199.108.133, 185.199.109.133, 185.199.110.133, ...\n",
            "Connecting to raw.githubusercontent.com (raw.githubusercontent.com)|185.199.108.133|:443... connected.\n",
            "HTTP request sent, awaiting response... 200 OK\n",
            "Length: 2623 (2.6K) [text/plain]\n",
            "Saving to: ‘deoldify_wrapper.py’\n",
            "\n",
            "\rdeoldify_wrapper.py   0%[                    ]       0  --.-KB/s               \rdeoldify_wrapper.py 100%[===================>]   2.56K  --.-KB/s    in 0s      \n",
            "\n",
            "2021-03-08 22:32:30 (59.6 MB/s) - ‘deoldify_wrapper.py’ saved [2623/2623]\n",
            "\n"
          ],
          "name": "stdout"
        }
      ]
    },
    {
      "cell_type": "code",
      "metadata": {
        "id": "yNtHSSYM1IoD"
      },
      "source": [
        "#hide\r\n",
        "#Importa biblioteca DeOldify\r\n",
        "from deoldify_wrapper import DeOldify\r\n",
        "\r\n",
        "# cria objeto com a biblioteca DeOldify\r\n",
        "deo = DeOldify()\r\n",
        "\r\n",
        "#caminho da imagem na internet\r\n",
        "url = 'https://i.redd.it/im9rs4cbgtl61.jpg'\r\n"
      ],
      "execution_count": null,
      "outputs": []
    },
    {
      "cell_type": "code",
      "metadata": {
        "id": "RK4IC7zWDxrS"
      },
      "source": [
        "#hide_input\r\n",
        "#coloriza a imagem a partir da função colorize da bibliotea DeOldify\r\n",
        "deo.colorize(url)"
      ],
      "execution_count": null,
      "outputs": []
    },
    {
      "cell_type": "code",
      "metadata": {
        "id": "iC_Yktt7GbAv"
      },
      "source": [
        ""
      ],
      "execution_count": null,
      "outputs": []
    }
  ]
}